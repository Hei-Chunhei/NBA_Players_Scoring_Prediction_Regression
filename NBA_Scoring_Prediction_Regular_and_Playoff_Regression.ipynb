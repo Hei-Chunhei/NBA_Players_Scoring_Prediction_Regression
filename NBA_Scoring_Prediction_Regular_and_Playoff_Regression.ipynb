{
 "cells": [
  {
   "cell_type": "markdown",
   "id": "593967b0",
   "metadata": {},
   "source": [
    "## Predicting NBA players' scoring average in Regular Season and Playoffs using Machine Learning.\n",
    "In this notebook, I am going to go through an example machine learning project with the goal of predicting the scoring average of players\n",
    "\n",
    "Problem definition\n",
    "How well can we predict the scoring of each player given its characteristics and categories provided by Kaggle.\n",
    "\n",
    "Data\n",
    "The data was adapted from that of Data from Basketball Reference.  https://www.kaggle.com/datasets/vivovinco/nba-player-stats\n",
    "\n",
    "There is 2 dataset:\n",
    "\n",
    "2021-2022 NBA Player Stats Regular Season CSV\n",
    "2021-2022 NBA Player Stats Playoff CSV\n",
    "\n",
    "\n",
    "Evaluation\n",
    "The evaluation metric for this competition is the RMSLE (root mean squared log error) between the actual and predicted the scoring Per Average.\n",
    "\n",
    "For more on the evaluation of this project check: https://www.kaggle.com/datasets/vivovinco/nba-player-stats\n",
    "\n",
    "Note: The goal for most regression evaluation metrics is to minimize the error. For example, our goal for this project will be to build a machine learning model which minimises RMSLE.\n",
    "\n",
    "Features\n",
    "* Rk : Rank\n",
    "* Player : Player's name\n",
    "* Pos : Position\n",
    "* Age : Player's age\n",
    "* Tm : Team\n",
    "* G : Games played\n",
    "* GS : Games started\n",
    "* MP : Minutes played per game\n",
    "* FG : Field goals per game\n",
    "* FGA : Field goal attempts per game\n",
    "* FG% : Field goal percentage\n",
    "* 3P : 3-point field goals per game\n",
    "* 3PA : 3-point field goal attempts per game\n",
    "* 3P% : 3-point field goal percentage\n",
    "* 2P : 2-point field goals per game\n",
    "* 2PA : 2-point field goal attempts per game\n",
    "* 2P% : 2-point field goal percentage\n",
    "* eFG% : Effective field goal percentage\n",
    "* FT : Free throws per game\n",
    "* FTA : Free throw attempts per game\n",
    "* FT% : Free throw percentage\n",
    "* ORB : Offensive rebounds per game\n",
    "* DRB : Defensive rebounds per game\n",
    "* TRB : Total rebounds per game\n",
    "* AST : Assists per game\n",
    "* STL : Steals per game\n",
    "* BLK : Blocks per game\n",
    "* TOV : Turnovers per game\n",
    "* PF : Personal fouls per game\n",
    "* PTS : Points per game\n"
   ]
  },
  {
   "cell_type": "markdown",
   "id": "5840b678",
   "metadata": {},
   "source": [
    "## Importing the data and preparing it for modeling"
   ]
  },
  {
   "cell_type": "code",
   "execution_count": 2,
   "id": "6ab556d9",
   "metadata": {},
   "outputs": [
    {
     "name": "stdout",
     "output_type": "stream",
     "text": [
      "Collecting pandas\n",
      "  Downloading pandas-2.0.2-cp310-cp310-macosx_11_0_arm64.whl (10.8 MB)\n",
      "\u001b[2K     \u001b[90m━━━━━━━━━━━━━━━━━━━━━━━━━━━━━━━━━━━━━━━━\u001b[0m \u001b[32m10.8/10.8 MB\u001b[0m \u001b[31m3.0 MB/s\u001b[0m eta \u001b[36m0:00:00\u001b[0m00:01\u001b[0m00:01\u001b[0m\n",
      "\u001b[?25hCollecting tzdata>=2022.1\n",
      "  Downloading tzdata-2023.3-py2.py3-none-any.whl (341 kB)\n",
      "\u001b[2K     \u001b[90m━━━━━━━━━━━━━━━━━━━━━━━━━━━━━━━━━━━━━━━\u001b[0m \u001b[32m341.8/341.8 kB\u001b[0m \u001b[31m3.0 MB/s\u001b[0m eta \u001b[36m0:00:00\u001b[0ma \u001b[36m0:00:01\u001b[0m\n",
      "\u001b[?25hCollecting numpy>=1.21.0\n",
      "  Downloading numpy-1.24.3-cp310-cp310-macosx_11_0_arm64.whl (13.9 MB)\n",
      "\u001b[2K     \u001b[90m━━━━━━━━━━━━━━━━━━━━━━━━━━━━━━━━━━━━━━━━\u001b[0m \u001b[32m13.9/13.9 MB\u001b[0m \u001b[31m3.0 MB/s\u001b[0m eta \u001b[36m0:00:00\u001b[0m00:01\u001b[0m00:01\u001b[0m\n",
      "\u001b[?25hRequirement already satisfied: pytz>=2020.1 in /Users/heic/miniconda3/lib/python3.10/site-packages (from pandas) (2022.7)\n",
      "Requirement already satisfied: python-dateutil>=2.8.2 in /Users/heic/miniconda3/lib/python3.10/site-packages (from pandas) (2.8.2)\n",
      "Requirement already satisfied: six>=1.5 in /Users/heic/miniconda3/lib/python3.10/site-packages (from python-dateutil>=2.8.2->pandas) (1.16.0)\n",
      "Installing collected packages: tzdata, numpy, pandas\n",
      "Successfully installed numpy-1.24.3 pandas-2.0.2 tzdata-2023.3\n",
      "Note: you may need to restart the kernel to use updated packages.\n"
     ]
    }
   ],
   "source": [
    "pip install pandas"
   ]
  },
  {
   "cell_type": "code",
   "execution_count": null,
   "id": "6db322d2",
   "metadata": {},
   "outputs": [],
   "source": [
    "# Import data analysis tools \n",
    "import pandas as pd\n",
    "import numpy as np\n",
    "import matplotlib.pyplot as plt"
   ]
  },
  {
   "cell_type": "code",
   "execution_count": 7,
   "id": "5ac3f9af",
   "metadata": {},
   "outputs": [],
   "source": [
    "# Specify the encoding parameter when reading the CSV file\n",
    "df = pd.read_csv(\"2021_2022_NBA_PlayerStats_Regular.csv\", encoding='latin1')"
   ]
  },
  {
   "cell_type": "code",
   "execution_count": 8,
   "id": "d79ded7e",
   "metadata": {},
   "outputs": [
    {
     "data": {
      "text/html": [
       "<div>\n",
       "<style scoped>\n",
       "    .dataframe tbody tr th:only-of-type {\n",
       "        vertical-align: middle;\n",
       "    }\n",
       "\n",
       "    .dataframe tbody tr th {\n",
       "        vertical-align: top;\n",
       "    }\n",
       "\n",
       "    .dataframe thead th {\n",
       "        text-align: right;\n",
       "    }\n",
       "</style>\n",
       "<table border=\"1\" class=\"dataframe\">\n",
       "  <thead>\n",
       "    <tr style=\"text-align: right;\">\n",
       "      <th></th>\n",
       "      <th>Rk;Player;Pos;Age;Tm;G;GS;MP;FG;FGA;FG%;3P;3PA;3P%;2P;2PA;2P%;eFG%;FT;FTA;FT%;ORB;DRB;TRB;AST;STL;BLK;TOV;PF;PTS</th>\n",
       "    </tr>\n",
       "  </thead>\n",
       "  <tbody>\n",
       "    <tr>\n",
       "      <th>0</th>\n",
       "      <td>1;Precious Achiuwa;C;22;TOR;73;28;23.6;3.6;8.3...</td>\n",
       "    </tr>\n",
       "    <tr>\n",
       "      <th>1</th>\n",
       "      <td>2;Steven Adams;C;28;MEM;76;75;26.3;2.8;5.1;0.5...</td>\n",
       "    </tr>\n",
       "    <tr>\n",
       "      <th>2</th>\n",
       "      <td>3;Bam Adebayo;C;24;MIA;56;56;32.6;7.3;13;0.557...</td>\n",
       "    </tr>\n",
       "    <tr>\n",
       "      <th>3</th>\n",
       "      <td>4;Santi Aldama;PF;21;MEM;32;0;11.3;1.7;4.1;0.4...</td>\n",
       "    </tr>\n",
       "    <tr>\n",
       "      <th>4</th>\n",
       "      <td>5;LaMarcus Aldridge;C;36;BRK;47;12;22.3;5.4;9....</td>\n",
       "    </tr>\n",
       "    <tr>\n",
       "      <th>...</th>\n",
       "      <td>...</td>\n",
       "    </tr>\n",
       "    <tr>\n",
       "      <th>807</th>\n",
       "      <td>601;Thaddeus Young;PF;33;TOR;26;0;18.3;2.6;5.5...</td>\n",
       "    </tr>\n",
       "    <tr>\n",
       "      <th>808</th>\n",
       "      <td>602;Trae Young;PG;23;ATL;76;76;34.9;9.4;20.3;0...</td>\n",
       "    </tr>\n",
       "    <tr>\n",
       "      <th>809</th>\n",
       "      <td>603;Omer Yurtseven;C;23;MIA;56;12;12.6;2.3;4.4...</td>\n",
       "    </tr>\n",
       "    <tr>\n",
       "      <th>810</th>\n",
       "      <td>604;Cody Zeller;C;29;POR;27;0;13.1;1.9;3.3;0.5...</td>\n",
       "    </tr>\n",
       "    <tr>\n",
       "      <th>811</th>\n",
       "      <td>605;Ivica Zubac;C;24;LAC;76;76;24.4;4.1;6.5;0....</td>\n",
       "    </tr>\n",
       "  </tbody>\n",
       "</table>\n",
       "<p>812 rows × 1 columns</p>\n",
       "</div>"
      ],
      "text/plain": [
       "    Rk;Player;Pos;Age;Tm;G;GS;MP;FG;FGA;FG%;3P;3PA;3P%;2P;2PA;2P%;eFG%;FT;FTA;FT%;ORB;DRB;TRB;AST;STL;BLK;TOV;PF;PTS\n",
       "0    1;Precious Achiuwa;C;22;TOR;73;28;23.6;3.6;8.3...                                                              \n",
       "1    2;Steven Adams;C;28;MEM;76;75;26.3;2.8;5.1;0.5...                                                              \n",
       "2    3;Bam Adebayo;C;24;MIA;56;56;32.6;7.3;13;0.557...                                                              \n",
       "3    4;Santi Aldama;PF;21;MEM;32;0;11.3;1.7;4.1;0.4...                                                              \n",
       "4    5;LaMarcus Aldridge;C;36;BRK;47;12;22.3;5.4;9....                                                              \n",
       "..                                                 ...                                                              \n",
       "807  601;Thaddeus Young;PF;33;TOR;26;0;18.3;2.6;5.5...                                                              \n",
       "808  602;Trae Young;PG;23;ATL;76;76;34.9;9.4;20.3;0...                                                              \n",
       "809  603;Omer Yurtseven;C;23;MIA;56;12;12.6;2.3;4.4...                                                              \n",
       "810  604;Cody Zeller;C;29;POR;27;0;13.1;1.9;3.3;0.5...                                                              \n",
       "811  605;Ivica Zubac;C;24;LAC;76;76;24.4;4.1;6.5;0....                                                              \n",
       "\n",
       "[812 rows x 1 columns]"
      ]
     },
     "execution_count": 8,
     "metadata": {},
     "output_type": "execute_result"
    }
   ],
   "source": [
    "df"
   ]
  },
  {
   "cell_type": "code",
   "execution_count": 9,
   "id": "9b2197ba",
   "metadata": {},
   "outputs": [],
   "source": [
    "# Specify the encoding parameter when reading the CSV file\n",
    "df2 = pd.read_csv(\"2021_2022_NBA_PlayerStats_Playoffs.csv\", encoding='latin1')"
   ]
  },
  {
   "cell_type": "code",
   "execution_count": 10,
   "id": "389e42ef",
   "metadata": {},
   "outputs": [
    {
     "data": {
      "text/html": [
       "<div>\n",
       "<style scoped>\n",
       "    .dataframe tbody tr th:only-of-type {\n",
       "        vertical-align: middle;\n",
       "    }\n",
       "\n",
       "    .dataframe tbody tr th {\n",
       "        vertical-align: top;\n",
       "    }\n",
       "\n",
       "    .dataframe thead th {\n",
       "        text-align: right;\n",
       "    }\n",
       "</style>\n",
       "<table border=\"1\" class=\"dataframe\">\n",
       "  <thead>\n",
       "    <tr style=\"text-align: right;\">\n",
       "      <th></th>\n",
       "      <th>Rk;Player;Pos;Age;Tm;G;GS;MP;FG;FGA;FG%;3P;3PA;3P%;2P;2PA;2P%;eFG%;FT;FTA;FT%;ORB;DRB;TRB;AST;STL;BLK;TOV;PF;PTS</th>\n",
       "    </tr>\n",
       "  </thead>\n",
       "  <tbody>\n",
       "    <tr>\n",
       "      <th>0</th>\n",
       "      <td>1;Precious Achiuwa;C;22;TOR;6;1;27.8;4.2;8.7;0...</td>\n",
       "    </tr>\n",
       "    <tr>\n",
       "      <th>1</th>\n",
       "      <td>2;Steven Adams;C;28;MEM;7;5;16.3;1.3;3;0.429;0...</td>\n",
       "    </tr>\n",
       "    <tr>\n",
       "      <th>2</th>\n",
       "      <td>3;Bam Adebayo;C;24;MIA;18;18;34.1;5.8;9.7;0.59...</td>\n",
       "    </tr>\n",
       "    <tr>\n",
       "      <th>3</th>\n",
       "      <td>4;Nickeil Alexander-Walker;SG;23;UTA;1;0;5;2;2...</td>\n",
       "    </tr>\n",
       "    <tr>\n",
       "      <th>4</th>\n",
       "      <td>5;Grayson Allen;SG;26;MIL;12;5;25.4;3.1;6.8;0....</td>\n",
       "    </tr>\n",
       "    <tr>\n",
       "      <th>...</th>\n",
       "      <td>...</td>\n",
       "    </tr>\n",
       "    <tr>\n",
       "      <th>212</th>\n",
       "      <td>213;Ziaire Williams;SF;20;MEM;10;1;16.8;2.3;5....</td>\n",
       "    </tr>\n",
       "    <tr>\n",
       "      <th>213</th>\n",
       "      <td>214;Delon Wright;SG;29;ATL;5;0;27.4;3;5.8;0.51...</td>\n",
       "    </tr>\n",
       "    <tr>\n",
       "      <th>214</th>\n",
       "      <td>215;Thaddeus Young;PF;33;TOR;6;0;14.5;1.5;3;0....</td>\n",
       "    </tr>\n",
       "    <tr>\n",
       "      <th>215</th>\n",
       "      <td>216;Trae Young;PG;23;ATL;5;5;37.2;4.4;13.8;0.3...</td>\n",
       "    </tr>\n",
       "    <tr>\n",
       "      <th>216</th>\n",
       "      <td>217;Omer Yurtseven;C;23;MIA;9;0;4.2;1.3;2;0.66...</td>\n",
       "    </tr>\n",
       "  </tbody>\n",
       "</table>\n",
       "<p>217 rows × 1 columns</p>\n",
       "</div>"
      ],
      "text/plain": [
       "    Rk;Player;Pos;Age;Tm;G;GS;MP;FG;FGA;FG%;3P;3PA;3P%;2P;2PA;2P%;eFG%;FT;FTA;FT%;ORB;DRB;TRB;AST;STL;BLK;TOV;PF;PTS\n",
       "0    1;Precious Achiuwa;C;22;TOR;6;1;27.8;4.2;8.7;0...                                                              \n",
       "1    2;Steven Adams;C;28;MEM;7;5;16.3;1.3;3;0.429;0...                                                              \n",
       "2    3;Bam Adebayo;C;24;MIA;18;18;34.1;5.8;9.7;0.59...                                                              \n",
       "3    4;Nickeil Alexander-Walker;SG;23;UTA;1;0;5;2;2...                                                              \n",
       "4    5;Grayson Allen;SG;26;MIL;12;5;25.4;3.1;6.8;0....                                                              \n",
       "..                                                 ...                                                              \n",
       "212  213;Ziaire Williams;SF;20;MEM;10;1;16.8;2.3;5....                                                              \n",
       "213  214;Delon Wright;SG;29;ATL;5;0;27.4;3;5.8;0.51...                                                              \n",
       "214  215;Thaddeus Young;PF;33;TOR;6;0;14.5;1.5;3;0....                                                              \n",
       "215  216;Trae Young;PG;23;ATL;5;5;37.2;4.4;13.8;0.3...                                                              \n",
       "216  217;Omer Yurtseven;C;23;MIA;9;0;4.2;1.3;2;0.66...                                                              \n",
       "\n",
       "[217 rows x 1 columns]"
      ]
     },
     "execution_count": 10,
     "metadata": {},
     "output_type": "execute_result"
    }
   ],
   "source": [
    "df2"
   ]
  },
  {
   "cell_type": "code",
   "execution_count": 11,
   "id": "d217c45f",
   "metadata": {},
   "outputs": [
    {
     "name": "stdout",
     "output_type": "stream",
     "text": [
      "<class 'pandas.core.frame.DataFrame'>\n",
      "RangeIndex: 812 entries, 0 to 811\n",
      "Data columns (total 1 columns):\n",
      " #   Column                                                                                                            Non-Null Count  Dtype \n",
      "---  ------                                                                                                            --------------  ----- \n",
      " 0   Rk;Player;Pos;Age;Tm;G;GS;MP;FG;FGA;FG%;3P;3PA;3P%;2P;2PA;2P%;eFG%;FT;FTA;FT%;ORB;DRB;TRB;AST;STL;BLK;TOV;PF;PTS  812 non-null    object\n",
      "dtypes: object(1)\n",
      "memory usage: 6.5+ KB\n"
     ]
    }
   ],
   "source": [
    "df.info()"
   ]
  },
  {
   "cell_type": "code",
   "execution_count": null,
   "id": "279af9dd",
   "metadata": {},
   "outputs": [],
   "source": []
  }
 ],
 "metadata": {
  "kernelspec": {
   "display_name": "Python 3 (ipykernel)",
   "language": "python",
   "name": "python3"
  },
  "language_info": {
   "codemirror_mode": {
    "name": "ipython",
    "version": 3
   },
   "file_extension": ".py",
   "mimetype": "text/x-python",
   "name": "python",
   "nbconvert_exporter": "python",
   "pygments_lexer": "ipython3",
   "version": "3.10.8"
  }
 },
 "nbformat": 4,
 "nbformat_minor": 5
}
