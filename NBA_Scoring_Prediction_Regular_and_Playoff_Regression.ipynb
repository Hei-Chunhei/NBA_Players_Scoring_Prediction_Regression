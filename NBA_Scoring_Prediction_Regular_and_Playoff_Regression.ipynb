{
 "cells": [
  {
   "cell_type": "markdown",
   "id": "d741f5aa",
   "metadata": {},
   "source": [
    "## Predicting NBA players' scoring average in Regular Season and Playoffs using Machine Learning.\n",
    "In this notebook, I am going to go through an example machine learning project with the goal of predicting the scoring average of players\n",
    "\n",
    "Problem definition How well can we predict the scoring of each player given its characteristics and categories provided by Kaggle.\n",
    "\n",
    "Data The data was adapted from that of Data from Basketball Reference. https://www.kaggle.com/datasets/vivovinco/nba-player-stats\n",
    "\n",
    "There is 2 dataset:\n",
    "\n",
    "2021-2022 NBA Player Stats Regular Season CSV 2021-2022 NBA Player Stats Playoff CSV\n",
    "\n",
    "Evaluation The evaluation metric for this competition is the RMSLE (root mean squared log error) between the actual and predicted the scoring Per Average.\n",
    "\n",
    "For more on the evaluation of this project check: https://www.kaggle.com/datasets/vivovinco/nba-player-stats\n",
    "\n",
    "Note: The goal for most regression evaluation metrics is to minimize the error. For example, our goal for this project will be to build a machine learning model which minimises RMSLE.\n",
    "\n",
    "Features\n",
    "\n",
    "* Rk : Rank\n",
    "* Player : Player's name\n",
    "* Pos : Position\n",
    "* Age : Player's age\n",
    "* Tm : Team\n",
    "* G : Games played\n",
    "* GS : Games started\n",
    "* MP : Minutes played per game\n",
    "* FG : Field goals per game\n",
    "* FGA : Field goal attempts per game\n",
    "* FG% : Field goal percentage\n",
    "* 3P : 3-point field goals per game\n",
    "* 3PA : 3-point field goal attempts per game\n",
    "* 3P% : 3-point field goal percentage\n",
    "* 2P : 2-point field goals per game\n",
    "* 2PA : 2-point field goal attempts per game\n",
    "* 2P% : 2-point field goal percentage\n",
    "* eFG% : Effective field goal percentage\n",
    "* FT : Free throws per game\n",
    "* FTA : Free throw attempts per game\n",
    "* FT% : Free throw percentage\n",
    "* ORB : Offensive rebounds per game\n",
    "* DRB : Defensive rebounds per game\n",
    "* TRB : Total rebounds per game\n",
    "* AST : Assists per game\n",
    "* STL : Steals per game\n",
    "* BLK : Blocks per game\n",
    "* TOV : Turnovers per game\n",
    "* PF : Personal fouls per game\n",
    "* PTS : Points per game"
   ]
  },
  {
   "cell_type": "code",
   "execution_count": 1,
   "id": "23dec546",
   "metadata": {},
   "outputs": [],
   "source": [
    "# Import data analysis tools \n",
    "import pandas as pd\n",
    "import numpy as np\n",
    "import matplotlib.pyplot as plt"
   ]
  },
  {
   "cell_type": "code",
   "execution_count": 2,
   "id": "103d3cdd",
   "metadata": {},
   "outputs": [],
   "source": [
    "\n",
    "# Specify the encoding parameter when reading the CSV file\n",
    "df = pd.read_csv(\"2021_2022_NBA_PlayerStats_Regular.csv\", encoding='latin1')"
   ]
  },
  {
   "cell_type": "code",
   "execution_count": 4,
   "id": "bd881ed3",
   "metadata": {},
   "outputs": [],
   "source": [
    "# Specify the encoding parameter when reading the CSV file\n",
    "df2 = pd.read_csv(\"2021_2022_NBA_PlayerStats_Playoffs.csv\", encoding='latin1')"
   ]
  },
  {
   "cell_type": "code",
   "execution_count": null,
   "id": "d9ee2e72",
   "metadata": {},
   "outputs": [],
   "source": []
  }
 ],
 "metadata": {
  "kernelspec": {
   "display_name": "Python 3 (ipykernel)",
   "language": "python",
   "name": "python3"
  },
  "language_info": {
   "codemirror_mode": {
    "name": "ipython",
    "version": 3
   },
   "file_extension": ".py",
   "mimetype": "text/x-python",
   "name": "python",
   "nbconvert_exporter": "python",
   "pygments_lexer": "ipython3",
   "version": "3.11.3"
  }
 },
 "nbformat": 4,
 "nbformat_minor": 5
}
